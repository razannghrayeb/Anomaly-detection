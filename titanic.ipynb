{
 "cells": [
  {
   "cell_type": "code",
   "execution_count": 71,
   "id": "8d10bc78",
   "metadata": {},
   "outputs": [],
   "source": [
    "%matplotlib notebook\n",
    "from matplotlib import pyplot as plt\n",
    "import pandas as pd\n",
    "import numpy as np\n",
    "from sklearn.pipeline import Pipeline\n",
    "from sklearn.compose import ColumnTransformer\n",
    "from sklearn.impute import SimpleImputer\n",
    "from sklearn.preprocessing import OneHotEncoder\n",
    "from sklearn.svm import LinearSVC\n",
    "from sklearn.neighbors import KNeighborsClassifier\n",
    "from sklearn.svm import SVC\n",
    "from sklearn.linear_model import LogisticRegression\n",
    "from sklearn.model_selection import train_test_split\n",
    "from sklearn.model_selection import cross_val_score\n",
    "from sklearn.metrics import accuracy_score, precision_score, recall_score, confusion_matrix, classification_report\n",
    "from sklearn.model_selection import GridSearchCV\n",
    "titanic = pd.read_csv(\"train.csv\")\n",
    "\n"
   ]
  },
  {
   "cell_type": "code",
   "execution_count": 68,
   "id": "03fed382",
   "metadata": {},
   "outputs": [
    {
     "name": "stdout",
     "output_type": "stream",
     "text": [
      "\n",
      "=== LinearSVC ===\n",
      "Cross-Validation Accuracy: 0.8013\n",
      "Test Accuracy:  0.8044692737430168\n",
      "Precision:      0.7671232876712328\n",
      "Recall:         0.7567567567567568\n",
      "Confusion Matrix:\n",
      "[[88 17]\n",
      " [18 56]]\n",
      "\n",
      "=== KNN ===\n",
      "Cross-Validation Accuracy: 0.7991\n",
      "Test Accuracy:  0.8100558659217877\n",
      "Precision:      0.803030303030303\n",
      "Recall:         0.7162162162162162\n",
      "Confusion Matrix:\n",
      "[[92 13]\n",
      " [21 53]]\n",
      "\n",
      "=== SVC ===\n",
      "Cross-Validation Accuracy: 0.6420\n",
      "Test Accuracy:  0.5977653631284916\n",
      "Precision:      0.625\n",
      "Recall:         0.06756756756756757\n",
      "Confusion Matrix:\n",
      "[[102   3]\n",
      " [ 69   5]]\n",
      "\n",
      "=== LogisticRegression ===\n",
      "Cross-Validation Accuracy: 0.8048\n",
      "Test Accuracy:  0.8268156424581006\n",
      "Precision:      0.7945205479452054\n",
      "Recall:         0.7837837837837838\n",
      "Confusion Matrix:\n",
      "[[90 15]\n",
      " [16 58]]\n"
     ]
    }
   ],
   "source": [
    "\n",
    "titanic = pd.read_csv(\"train.csv\")\n",
    "titanic['Title'] = titanic['Name'].str.extract(r',\\s*([^\\.]*)\\.', expand=False).str.strip()\n",
    "titanic['AgeGroup'] = pd.cut(titanic['Age'], bins=[0, 12, 18, 60, 100], labels=['Child', 'Teen', 'Adult', 'Senior'])\n",
    "titanic.drop(columns=[\"Name\", \"Ticket\", \"PassengerId\"], inplace=True)\n",
    "X = titanic.drop(\"Survived\", axis=1)\n",
    "y = titanic[\"Survived\"]\n",
    "X_train, X_test, y_train, y_test = train_test_split(X, y, test_size=0.2, random_state=42)\n",
    "\n",
    "numerical_columns = [\"Age\"]\n",
    "categorical_columns = [\"Pclass\", \"Sex\", \"Cabin\", \"Embarked\", \"Title\", \"AgeGroup\"]\n",
    "numerical_transform = Pipeline(steps=[\n",
    "    (\"imputer\", SimpleImputer(strategy=\"median\"))\n",
    "])\n",
    "\n",
    "categorical_transform = Pipeline(steps=[\n",
    "    (\"imputer\", SimpleImputer(strategy=\"constant\", fill_value=\"missing\")),\n",
    "    (\"onehot\", OneHotEncoder(handle_unknown=\"ignore\"))\n",
    "])\n",
    "\n",
    "preprocessor = ColumnTransformer(transformers=[\n",
    "    (\"num\", numerical_transform, numerical_columns),\n",
    "    (\"cat\", categorical_transform, categorical_columns)\n",
    "])\n",
    "\n",
    "models = {\n",
    "    \"LinearSVC\": LinearSVC(max_iter=10000),\n",
    "    \"KNN\": KNeighborsClassifier(),\n",
    "    \"SVC\": SVC(),\n",
    "    \"LogisticRegression\": LogisticRegression(max_iter=10000)\n",
    "}\n",
    "for model_name, model in models.items():\n",
    "    print(f\"\\n=== {model_name} ===\")\n",
    "    pipeline = Pipeline(steps=[\n",
    "        (\"preprocessor\", preprocessor),\n",
    "        (\"classifier\", model)\n",
    "    ])\n",
    "    scores = cross_val_score(pipeline, X, y, cv=5, scoring=\"accuracy\")\n",
    "    print(f\"Cross-Validation Accuracy: {scores.mean():.4f}\")\n",
    "    \n",
    "    pipeline.fit(X_train, y_train)\n",
    "    y_pred = pipeline.predict(X_test)\n",
    "    \n",
    "    acc = accuracy_score(y_test, y_pred)\n",
    "    prec = precision_score(y_test, y_pred)\n",
    "    rec = recall_score(y_test, y_pred)\n",
    "    cm = confusion_matrix(y_test, y_pred)\n",
    "\n",
    "    print(f\"Test Accuracy:  {acc}\")\n",
    "    print(f\"Precision:      {prec}\")\n",
    "    print(f\"Recall:         {rec}\")\n",
    "    print(\"Confusion Matrix:\")\n",
    "    print(cm)\n",
    "  \n"
   ]
  },
  {
   "cell_type": "code",
   "execution_count": null,
   "id": "8d115dcb",
   "metadata": {},
   "outputs": [
    {
     "name": "stdout",
     "output_type": "stream",
     "text": [
      "Fitting 5 folds for each of 20 candidates, totalling 100 fits\n"
     ]
    },
    {
     "data": {
      "text/plain": [
       "Survived\n",
       "0    549\n",
       "1    342\n",
       "Name: count, dtype: int64"
      ]
     },
     "execution_count": 83,
     "metadata": {},
     "output_type": "execute_result"
    }
   ],
   "source": [
    "\n",
    "np.random.seed(42)\n",
    "pipe = Pipeline(steps=[('preprocessor', preprocessor),\n",
    "                       ('classifier', LogisticRegression(max_iter=1000))])\n",
    "\n",
    "param_grid = {\n",
    "    'classifier__C': np.logspace(-4, 4, 20),\n",
    "    'classifier__solver': ['liblinear']\n",
    "}\n",
    "\n",
    "gs = GridSearchCV(\n",
    "    estimator=pipe,\n",
    "    param_grid=param_grid,\n",
    "    cv=5,\n",
    "    verbose=1\n",
    ")\n",
    "\n",
    "gs.fit(X_train, y_train)\n",
    "gs.best_params_\n",
    "gs.best_score_\n",
    "\n",
    "\n"
   ]
  },
  {
   "cell_type": "code",
   "execution_count": 84,
   "id": "5fa3a42a",
   "metadata": {},
   "outputs": [
    {
     "data": {
      "text/plain": [
       "Survived\n",
       "0    549\n",
       "1    342\n",
       "Name: count, dtype: int64"
      ]
     },
     "execution_count": 84,
     "metadata": {},
     "output_type": "execute_result"
    }
   ],
   "source": [
    "titanic['Survived'].value_counts()"
   ]
  },
  {
   "cell_type": "code",
   "execution_count": null,
   "id": "708f3bc9",
   "metadata": {},
   "outputs": [
    {
     "data": {
      "text/plain": [
       "Predicted_Survived\n",
       "0    253\n",
       "1    165\n",
       "Name: count, dtype: int64"
      ]
     },
     "execution_count": 82,
     "metadata": {},
     "output_type": "execute_result"
    }
   ],
   "source": [
    "test = pd.read_csv(\"test.csv\")\n",
    "\n",
    "test['Title'] = test['Name'].str.extract(r',\\s*([^\\.]*)\\.', expand=False).str.strip()\n",
    "test['AgeGroup'] = pd.cut(test['Age'], bins=[0, 12, 18, 60, 100], labels=['Child', 'Teen', 'Adult', 'Senior'])\n",
    "test.drop(columns=[\"Name\", \"Ticket\", \"PassengerId\"], inplace=True)\n",
    "\n",
    "X_test = test\n",
    "\n",
    "best_model = gs.best_estimator_\n",
    "predictions = best_model.predict(X_test)\n",
    "\n",
    "test['Predicted_Survived'] = predictions\n",
    "test.to_csv(\"predictions.csv\", index=False)\n",
    "\n",
    "test['Predicted_Survived'].value_counts()\n",
    "\n",
    "#the model predicts that around 40% of people survived which is close to precentage in data,which indicates that model is working fine"
   ]
  }
 ],
 "metadata": {
  "kernelspec": {
   "display_name": "testenv",
   "language": "python",
   "name": "python3"
  },
  "language_info": {
   "codemirror_mode": {
    "name": "ipython",
    "version": 3
   },
   "file_extension": ".py",
   "mimetype": "text/x-python",
   "name": "python",
   "nbconvert_exporter": "python",
   "pygments_lexer": "ipython3",
   "version": "3.13.5"
  }
 },
 "nbformat": 4,
 "nbformat_minor": 5
}
